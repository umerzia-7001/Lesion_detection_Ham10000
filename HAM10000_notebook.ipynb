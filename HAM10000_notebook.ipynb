{
  "nbformat": 4,
  "nbformat_minor": 0,
  "metadata": {
    "colab": {
      "name": "HAM10000_notebook.ipynb",
      "provenance": [],
      "collapsed_sections": [],
      "include_colab_link": true
    },
    "kernelspec": {
      "name": "python3",
      "display_name": "Python 3"
    }
  },
  "cells": [
    {
      "cell_type": "markdown",
      "metadata": {
        "id": "view-in-github",
        "colab_type": "text"
      },
      "source": [
        "<a href=\"https://colab.research.google.com/github/umerzia-7001/Lesion_detection_Ham10000/blob/main/HAM10000_notebook.ipynb\" target=\"_parent\"><img src=\"https://colab.research.google.com/assets/colab-badge.svg\" alt=\"Open In Colab\"/></a>"
      ]
    },
    {
      "cell_type": "markdown",
      "metadata": {
        "id": "EHWVMYzProuK"
      },
      "source": [
        "## Loading Data"
      ]
    },
    {
      "cell_type": "code",
      "metadata": {
        "id": "V71rJ-NNxX4j"
      },
      "source": [
        "!mkdir /root/.kaggle\n",
        "!echo '{\"username\":\"tahirazia\",\"key\":\"e85d3296e5894d8cda02fef461ed2df8\"}' > /root/.kaggle/kaggle.json"
      ],
      "execution_count": null,
      "outputs": []
    },
    {
      "cell_type": "code",
      "metadata": {
        "id": "KZeixHzuxnzp",
        "colab": {
          "base_uri": "https://localhost:8080/"
        },
        "outputId": "a977b517-17ec-4559-c138-64e58a576ff1"
      },
      "source": [
        "!pip install kaggle\n",
        "import json\n",
        "import zipfile\n",
        "import os\n",
        "!chmod 600 /root/.kaggle/kaggle.json\n",
        "!kaggle datasets download -d kmader/skin-cancer-mnist-ham10000\n",
        "if not os.path.exists(\"/content/competitions/competition_name\"):\n",
        "    os.makedirs(\"/content/competitions/competition_name\")\n",
        "os.chdir('/content/competitions/competition_name')\n",
        "#for file in os.listdir():\n",
        "    #zip_ref = zipfile.ZipFile(file, 'r')\n",
        "    #zip_ref.extractall()\n",
        "    #zip_ref.close()"
      ],
      "execution_count": null,
      "outputs": [
        {
          "output_type": "stream",
          "text": [
            "Requirement already satisfied: kaggle in /usr/local/lib/python3.6/dist-packages (1.5.9)\n",
            "Requirement already satisfied: python-dateutil in /usr/local/lib/python3.6/dist-packages (from kaggle) (2.8.1)\n",
            "Requirement already satisfied: urllib3 in /usr/local/lib/python3.6/dist-packages (from kaggle) (1.24.3)\n",
            "Requirement already satisfied: slugify in /usr/local/lib/python3.6/dist-packages (from kaggle) (0.0.1)\n",
            "Requirement already satisfied: requests in /usr/local/lib/python3.6/dist-packages (from kaggle) (2.23.0)\n",
            "Requirement already satisfied: tqdm in /usr/local/lib/python3.6/dist-packages (from kaggle) (4.41.1)\n",
            "Requirement already satisfied: certifi in /usr/local/lib/python3.6/dist-packages (from kaggle) (2020.6.20)\n",
            "Requirement already satisfied: six>=1.10 in /usr/local/lib/python3.6/dist-packages (from kaggle) (1.15.0)\n",
            "Requirement already satisfied: python-slugify in /usr/local/lib/python3.6/dist-packages (from kaggle) (4.0.1)\n",
            "Requirement already satisfied: chardet<4,>=3.0.2 in /usr/local/lib/python3.6/dist-packages (from requests->kaggle) (3.0.4)\n",
            "Requirement already satisfied: idna<3,>=2.5 in /usr/local/lib/python3.6/dist-packages (from requests->kaggle) (2.10)\n",
            "Requirement already satisfied: text-unidecode>=1.3 in /usr/local/lib/python3.6/dist-packages (from python-slugify->kaggle) (1.3)\n",
            "skin-cancer-mnist-ham10000.zip: Skipping, found more recently modified local copy (use --force to force download)\n"
          ],
          "name": "stdout"
        }
      ]
    },
    {
      "cell_type": "code",
      "metadata": {
        "id": "7Ne4i0rNyPDF",
        "colab": {
          "base_uri": "https://localhost:8080/"
        },
        "outputId": "f0409170-0996-4856-c7b9-1c62f5b07add"
      },
      "source": [
        "from google.colab import drive\n",
        "drive.mount('/content/drive')\n"
      ],
      "execution_count": null,
      "outputs": [
        {
          "output_type": "stream",
          "text": [
            "Mounted at /content/drive\n"
          ],
          "name": "stdout"
        }
      ]
    },
    {
      "cell_type": "code",
      "metadata": {
        "id": "MTPQvOrGDb3I"
      },
      "source": [
        "# Importing the required libraries\n",
        "import pandas as pd # Pandas for making dataframes and extracting columns\n",
        "from sklearn.model_selection import train_test_split # For generating train & test model\n",
        "import numpy as np # For converting image to array and reshaping\n",
        "from PIL import Image # For creating image from array\n",
        "import csv # For generating csv files\n",
        "import cv2\n",
        "import matplotlib.pyplot as plt\n"
      ],
      "execution_count": null,
      "outputs": []
    },
    {
      "cell_type": "markdown",
      "metadata": {
        "id": "e0trXVclrbop"
      },
      "source": [
        "## Data Preprocessing "
      ]
    },
    {
      "cell_type": "code",
      "metadata": {
        "id": "42TPBDXgo4n2"
      },
      "source": [
        "def load_random_data(filename, labels = None):\n",
        "  ''' This function takes in a file and labels and generate a random training set'''\n",
        "  # reading the file as csv file and making a pandas dataframe\n",
        "  temp_df = pd.read_csv(filename, header = None)\n",
        "  # Appending a header to the data frame\n",
        "  x = ''\n",
        "  temp_df.columns = [x for i in range(784)]\n",
        "  # Adding labels to the data frame\n",
        "  temp_df['labels'] = labels\n",
        "  \n",
        "  # Using a function from sklearn.model_selection to generate a random data\n",
        "  train_set , val_set = train_test_split(temp_df, test_size=0.1)\n",
        "  # Returning the generated data\n",
        "  return train_set, val_set"
      ],
      "execution_count": null,
      "outputs": []
    },
    {
      "cell_type": "code",
      "metadata": {
        "id": "lJlEaGO7o439"
      },
      "source": [
        "def generate_grey(filename, file_generated):\n",
        "  ''' This function generates a grayscale version of rgb pixels'''\n",
        "\n",
        "  # reading the file as csv\n",
        "  labels = pd.read_csv(filename)\n",
        "  # Extracing the label column from the dataframe\n",
        "  labels = labels[\"label\"]\n",
        "  # Creating a new file for gray csv\n",
        "  file1 = open(file_generated, \"w\")\n",
        "  # Instantiation of csv writer\n",
        "  writer = csv.writer(file1)\n",
        "\n",
        "  # Opening the file with csv\n",
        "  with open(filename) as csv_file:\n",
        "    # Reading the file with csv reader\n",
        "    csv_reader = csv.reader(csv_file)\n",
        "    # Skip headers\n",
        "    next(csv_reader)\n",
        "    # Iterating over each pixel set and converting it to greyscale\n",
        "    for row in csv_reader:\n",
        "        pixels = row[:-1] # without label\n",
        "        pixels = np.array(pixels, dtype='uint8')\n",
        "        pixels = pixels.reshape((28, 28,3))\n",
        "        image = Image.fromarray(pixels)\n",
        "        gray_image = cv2.cvtColor(np.float32(image), cv2.COLOR_BGR2GRAY)\n",
        "        grey_df = np.asarray(gray_image)\n",
        "        grey_df = grey_df.reshape(1,784)\n",
        "        writer.writerows(grey_df)\n",
        "  # Returning the labels of each image\n",
        "  return labels"
      ],
      "execution_count": null,
      "outputs": []
    },
    {
      "cell_type": "code",
      "metadata": {
        "id": "bVmOj8UoDd9J"
      },
      "source": [
        "def data_normalization(X_train_, X_test_):\n",
        "  '''This function is used to normalize the data set'''\n",
        "  \n",
        "  \n",
        "  # Converting the inputs to numpy arrays\n",
        "  X_train = np.asarray(X_train_.to_numpy())\n",
        "  X_test = np.asarray(X_test_.to_numpy())\n",
        "  \n",
        "  # Applying the normalization formula \n",
        "  X_train = (X_train - X_train.mean())/X_train.std()\n",
        "  X_test = (X_test - X_test.mean())/X_test.std()\n",
        "\n",
        "  # Returning the normalized data\n",
        "  return X_train, X_test\n",
        "\n",
        "label = {\n",
        "    0 : \"Actinic Keratoses\",\n",
        "    1 : \"Basal Cell Carcinoma\",\n",
        "    2 : 'Benign keratosis-like lesions',\n",
        "    3 : 'Dermatofibroma',\n",
        "    4 : 'Melanocytic nevi',\n",
        "    5 : 'Melanoma',\n",
        "    6 : 'Vascular skin'\n",
        "}\n",
        "def Upsampling(train):\n",
        "  freqs = train[\"labels\"].value_counts()\n",
        "  freqs = freqs.sort_index()\n",
        "  upsample_rate = [freqs.max() // freq for freq in freqs]\n",
        "  for i in range(0, 7):\n",
        "      if i == 4:\n",
        "        continue\n",
        "      train = train.append([train.loc[train['labels'] == i,:]]*(upsample_rate[i]-1), ignore_index=True)\n"
      ],
      "execution_count": null,
      "outputs": []
    },
    {
      "cell_type": "code",
      "metadata": {
        "id": "J7K1ulLXDeAe",
        "colab": {
          "base_uri": "https://localhost:8080/",
          "height": 1000
        },
        "outputId": "420174a5-0f26-40e9-ebc2-99bb6491f1ed"
      },
      "source": [
        "\n",
        "import numpy as np\n",
        "import csv\n",
        "from PIL import Image    \n",
        "\n",
        "\n",
        "with open('/content/competitions/competition_name/hmnist_28_28_RGB.csv') as csv_file:\n",
        "    csv_reader = csv.reader(csv_file)\n",
        "\n",
        "    # skip headers\n",
        "    next(csv_reader)\n",
        "    images=[]\n",
        "    for row in csv_reader:\n",
        "        pixels = row[:-1] # without label\n",
        "        pixels = np.array(pixels, dtype='uint8')\n",
        "        pixels = pixels.reshape((28, 28,3))\n",
        "        image = Image.fromarray(pixels) # PIL image \n",
        "        images.append(image)\n",
        "\n",
        "\n",
        "# plotting images  \n",
        "for i in range(0,4):\n",
        "  plt.figure(figsize=(5,10))\n",
        "  plt.imshow(images[i+100])\n",
        "  plt.show()\n",
        "  "
      ],
      "execution_count": null,
      "outputs": [
        {
          "output_type": "display_data",
          "data": {
            "image/png": "[encoded data removed]",
            "text/plain": [
              "<Figure size 360x720 with 1 Axes>"
            ]
          },
          "metadata": {
            "tags": [],
            "needs_background": "light"
          }
        },
        {
          "output_type": "display_data",
          "data": {
            "image/png": "[encoded data removed]",
            "text/plain": [
              "<Figure size 360x720 with 1 Axes>"
            ]
          },
          "metadata": {
            "tags": [],
            "needs_background": "light"
          }
        },
        {
          "output_type": "display_data",
          "data": {
            "image/png": "[encoded data removed]",
            "text/plain": [
              "<Figure size 360x720 with 1 Axes>"
            ]
          },
          "metadata": {
            "tags": [],
            "needs_background": "light"
          }
        },
        {
          "output_type": "display_data",
          "data": {
            "image/png": "[encoded data removed]",
            "text/plain": [
              "<Figure size 360x720 with 1 Axes>"
            ]
          },
          "metadata": {
            "tags": [],
            "needs_background": "light"
          }
        }
      ]
    },
    {
      "cell_type": "code",
      "metadata": {
        "id": "JqwjmcgvpUEo"
      },
      "source": [
        "# saving methods for preprocessing data\n",
        "label = generate_grey(\"/content/competitions/competition_name/hmnist_28_28_RGB.csv\", \"grey.csv\")\n",
        "\n",
        "train_set_, val_set_ = load_random_data(\"grey.csv\", label)\n",
        "\n",
        "Upsampling( train_set_)\n",
        "\n",
        "X_train_ = train_set_.drop('labels',axis=1)\n",
        "y_train_ =train_set_['labels']\n",
        "X_test_ = val_set_.drop('labels',axis=1)\n",
        "y_test_ = val_set_['labels']\n",
        "\n",
        "\n",
        "X_train, X_test = data_normalization(X_train_, X_test_)"
      ],
      "execution_count": null,
      "outputs": []
    },
    {
      "cell_type": "code",
      "metadata": {
        "id": "hl1EowLnrN9U"
      },
      "source": [
        "\n",
        "y_train = np.asarray(y_train_.to_numpy())\n",
        "y_test = np.asarray(y_test_.to_numpy())\n",
        "\n",
        "# validation set \n",
        "\n",
        "\n"
      ],
      "execution_count": null,
      "outputs": []
    },
    {
      "cell_type": "code",
      "metadata": {
        "id": "amkYo6U1qUyI",
        "colab": {
          "base_uri": "https://localhost:8080/"
        },
        "outputId": "abd2418d-60fd-43de-f8f0-70b9aca2d732"
      },
      "source": [
        "# checking shapes of our data\n",
        "print(\"Shape of training data\")\n",
        "X_train = X_train.reshape(X_train.shape[0],28,28,1)\n",
        "X_test = X_test.reshape(X_test.shape[0],28,28,1)\n",
        "\n",
        "\n",
        "print(X_train.shape,y_train.shape)\n",
        "\n",
        "print(\"shape of testing data\")\n",
        "print(X_test.shape,y_test.shape)\n",
        "\n",
        "\n"
      ],
      "execution_count": null,
      "outputs": [
        {
          "output_type": "stream",
          "text": [
            "Shape of training data\n",
            "(9013, 28, 28, 1) (9013,)\n",
            "shape of testing data\n",
            "(1002, 28, 28, 1) (1002,)\n"
          ],
          "name": "stdout"
        }
      ]
    },
    {
      "cell_type": "markdown",
      "metadata": {
        "id": "AkT9uERWswJI"
      },
      "source": [
        "## EDA"
      ]
    },
    {
      "cell_type": "code",
      "metadata": {
        "id": "h7vAHb6FFfDP",
        "colab": {
          "base_uri": "https://localhost:8080/",
          "height": 520
        },
        "outputId": "311c3874-e199-436e-d78b-73262aeb02dd"
      },
      "source": [
        "# plotting frequency of labels\n",
        "labels=['Melanocytic nevi','Dermatofibroma','Benign keratosis-like lesions', 'Basal Cell Carcinoma','Actinic keratoses','Vascular skin',\n",
        "        'Dermatofibroma']\n",
        "# respective lesion sizes as checked from labels \n",
        "sizes = [6705,1113, 1099, 514,327,142, 115]\n",
        "# used to make major class look exploded\n",
        "explode = (0.2, 0.0, 0.0, 0.0, 0.0, 0.0,0.0)\n",
        "\n",
        "fig ,axes = plt.subplots(figsize=(10,9))\n",
        "# used for label\n",
        "wp = { 'linewidth' : 1, 'edgecolor' : \"black\" }\n",
        "\n",
        "# using matplot's pie method to make a pie chart\n",
        "wedges,texts,autotexts = axes.pie(sizes, autopct='%1.1f%%',\n",
        "        shadow=True, startangle=90,explode = explode,wedgeprops = wp)\n",
        "\n",
        "# Adding legend \n",
        "axes.legend(wedges, labels, \n",
        "          title =\"Lesions\", \n",
        "          loc =\"center left\", \n",
        "          bbox_to_anchor =(1, 0, 0.5, 1)) \n",
        "\n",
        "plt.show()"
      ],
      "execution_count": null,
      "outputs": [
        {
          "output_type": "display_data",
          "data": {
            "image/png": "[encoded data removed]",
            "text/plain": [
              "<Figure size 720x648 with 1 Axes>"
            ]
          },
          "metadata": {
            "tags": []
          }
        }
      ]
    },
    {
      "cell_type": "markdown",
      "metadata": {
        "id": "Na37I3hJs64-"
      },
      "source": [
        "## Data Augmentation"
      ]
    },
    {
      "cell_type": "code",
      "metadata": {
        "id": "0slbS9gOsYVf",
        "colab": {
          "base_uri": "https://localhost:8080/"
        },
        "outputId": "eb36690c-63ca-4820-f80b-4ffd5829e082"
      },
      "source": [
        "from keras.preprocessing.image import ImageDataGenerator\n",
        "\n",
        "\n",
        "# using keras function for augmenting data\n",
        "datagen=ImageDataGenerator(\n",
        "    featurewise_center=False,  # set input mean  over the dataset\n",
        "    samplewise_center=False,  # set each sample mean \n",
        "    featurewise_std_normalization=True,  # divide inputs by std of the dataset\n",
        "    samplewise_std_normalization=False,  # divide each input by its std\n",
        "    zca_whitening=True,  # apply ZCA whitening\n",
        "    rotation_range=15,  # randomly rotate images in the range (degrees, 0 to 180)\n",
        "    width_shift_range=0.1,  # randomly shift images horizontally (fraction of total width)\n",
        "    height_shift_range=0.1,\n",
        "    shear_range=0.01,\n",
        "    zoom_range=[0.9, 1.25],  # randomly shift images vertically (fraction of total height)\n",
        "    horizontal_flip=True,  # randomly flip images\n",
        "    vertical_flip=True,\n",
        "    data_format='channels_last')  # randomly flip images\n",
        "    \n",
        "\n",
        " # augmenting training data       \n",
        "datagen.fit(X_train)\n"
      ],
      "execution_count": null,
      "outputs": [
        {
          "output_type": "stream",
          "text": [
            "/usr/local/lib/python3.6/dist-packages/keras_preprocessing/image/image_data_generator.py:337: UserWarning: This ImageDataGenerator specifies `zca_whitening`, which overrides setting of `featurewise_center`.\n",
            "  warnings.warn('This ImageDataGenerator specifies '\n",
            "/usr/local/lib/python3.6/dist-packages/keras_preprocessing/image/image_data_generator.py:342: UserWarning: This ImageDataGenerator specifies `zca_whitening` which overrides setting of`featurewise_std_normalization`.\n",
            "  warnings.warn('This ImageDataGenerator specifies '\n",
            "/usr/local/lib/python3.6/dist-packages/keras_preprocessing/image/image_data_generator.py:349: UserWarning: This ImageDataGenerator specifies `featurewise_std_normalization`, which overrides setting of `featurewise_center`.\n",
            "  warnings.warn('This ImageDataGenerator specifies '\n"
          ],
          "name": "stderr"
        }
      ]
    },
    {
      "cell_type": "markdown",
      "metadata": {
        "id": "YFGWKeRFja40"
      },
      "source": [
        "## Model and Training"
      ]
    },
    {
      "cell_type": "code",
      "metadata": {
        "id": "tSmdzssedALk",
        "colab": {
          "base_uri": "https://localhost:8080/"
        },
        "outputId": "ea411d10-8fc6-42a7-84ce-89f1084adc19"
      },
      "source": [
        "from tensorflow.keras.layers import Dense\n",
        "from tensorflow.keras.layers import MaxPool2D,MaxPooling2D\n",
        "from tensorflow.keras.layers import BatchNormalization\n",
        "from tensorflow.keras.layers import Conv2D\n",
        "from keras.layers import Dropout,Flatten\n",
        "from tensorflow.keras.optimizers import Adam\n",
        "from keras.models import Sequential\n",
        "\n",
        "classes= 7 #len(labels)\n",
        "input_shape=(28,28,1)\n",
        "def model(input_shape,num_classes):\n",
        "\n",
        "\n",
        "#model with 5 layers \n",
        "\n",
        "  model = Sequential()\n",
        "  model.add(Conv2D(32, kernel_size=(3, 3),activation='relu',padding = 'Same',input_shape=input_shape))\n",
        "  model.add(Conv2D(32,kernel_size=(3, 3), activation='relu',padding = 'Same',))\n",
        "  model.add(MaxPool2D(pool_size = (2, 2)))\n",
        "  model.add(Dropout(0.25))\n",
        "\n",
        "  model.add(Conv2D(64, (3, 3), activation='relu',padding = 'Same'))\n",
        "  model.add(Conv2D(64, (3, 3), activation='relu',padding = 'Same'))\n",
        "  model.add(MaxPool2D(pool_size=(2, 2)))\n",
        "  model.add(Dropout(0.40))\n",
        "\n",
        "  model.add(Flatten())\n",
        "  model.add(Dense(128, activation='relu'))\n",
        "  model.add(Dropout(0.5))\n",
        "  model.add(Dense(num_classes, activation='softmax'))\n",
        "  return model\n",
        "\n",
        "\n",
        "model = model(input_shape_,classes)\n",
        "# displaying model summary , number of parameters\n",
        "model.summary()"
      ],
      "execution_count": null,
      "outputs": [
        {
          "output_type": "stream",
          "text": [
            "Model: \"sequential_14\"\n",
            "_________________________________________________________________\n",
            "Layer (type)                 Output Shape              Param #   \n",
            "=================================================================\n",
            "conv2d_31 (Conv2D)           (None, 28, 28, 32)        320       \n",
            "_________________________________________________________________\n",
            "conv2d_32 (Conv2D)           (None, 28, 28, 32)        9248      \n",
            "_________________________________________________________________\n",
            "max_pooling2d_18 (MaxPooling (None, 14, 14, 32)        0         \n",
            "_________________________________________________________________\n",
            "dropout_25 (Dropout)         (None, 14, 14, 32)        0         \n",
            "_________________________________________________________________\n",
            "conv2d_33 (Conv2D)           (None, 14, 14, 64)        18496     \n",
            "_________________________________________________________________\n",
            "conv2d_34 (Conv2D)           (None, 14, 14, 64)        36928     \n",
            "_________________________________________________________________\n",
            "max_pooling2d_19 (MaxPooling (None, 7, 7, 64)          0         \n",
            "_________________________________________________________________\n",
            "dropout_26 (Dropout)         (None, 7, 7, 64)          0         \n",
            "_________________________________________________________________\n",
            "flatten_12 (Flatten)         (None, 3136)              0         \n",
            "_________________________________________________________________\n",
            "dense_25 (Dense)             (None, 128)               401536    \n",
            "_________________________________________________________________\n",
            "dropout_27 (Dropout)         (None, 128)               0         \n",
            "_________________________________________________________________\n",
            "dense_26 (Dense)             (None, 7)                 903       \n",
            "=================================================================\n",
            "Total params: 467,431\n",
            "Trainable params: 467,431\n",
            "Non-trainable params: 0\n",
            "_________________________________________________________________\n"
          ],
          "name": "stdout"
        }
      ]
    },
    {
      "cell_type": "code",
      "metadata": {
        "id": "CkO7LyF7K0Ft",
        "colab": {
          "base_uri": "https://localhost:8080/",
          "height": 103
        },
        "outputId": "665d56d7-3e8e-4268-8d1b-267b38c3e6bb"
      },
      "source": [
        "'''\n",
        "from tensorflow.keras.applications import VGG16\n",
        "from tensorflow.keras.layers import Input\n",
        "from tensorflow.keras.models import Model\n",
        "# importing VGG16 CNN from keras.application\n",
        "bModel = VGG16(weights=\"imagenet\", include_top=False,input_tensor=Input(shape=input_shape))  #base_Model\n",
        "hModel = bModel.output #head_Model\n",
        "\n",
        "# making out own dense layers *** transfer learning ***\n",
        "hModel = AveragePooling2D(pool_size=(4, 4))(hModel)\n",
        "hModel = Flatten(name=\"flatten\")(hModel)\n",
        "hModel = Dense(64, activation=\"relu\")(hModel)\n",
        "hModel = Dropout(0.5)(hModel)\n",
        "hModel = Dense(7, activation=\"softmax\")(hModel)\n",
        "model = Model(inputs=bModel.input, outputs=hModel)\n",
        "for layer in bModel.layers:\n",
        "    layer.trainable = False'''"
      ],
      "execution_count": null,
      "outputs": [
        {
          "output_type": "execute_result",
          "data": {
            "application/vnd.google.colaboratory.intrinsic+json": {
              "type": "string"
            },
            "text/plain": [
              "'\\nfrom tensorflow.keras.applications import VGG16\\nfrom tensorflow.keras.layers import Input\\nfrom tensorflow.keras.models import Model\\n# importing VGG16 CNN from keras.application\\nbModel = VGG16(weights=\"imagenet\", include_top=False,input_tensor=Input(shape=input_shape))  #base_Model\\nhModel = bModel.output #head_Model\\n\\n# making out own dense layers *** transfer learning ***\\nhModel = AveragePooling2D(pool_size=(4, 4))(hModel)\\nhModel = Flatten(name=\"flatten\")(hModel)\\nhModel = Dense(64, activation=\"relu\")(hModel)\\nhModel = Dropout(0.5)(hModel)\\nhModel = Dense(7, activation=\"softmax\")(hModel)\\nmodel = Model(inputs=bModel.input, outputs=hModel)\\nfor layer in bModel.layers:\\n    layer.trainable = False'"
            ]
          },
          "metadata": {
            "tags": []
          },
          "execution_count": 251
        }
      ]
    },
    {
      "cell_type": "code",
      "metadata": {
        "id": "7tX8lPblAxBB",
        "colab": {
          "base_uri": "https://localhost:8080/"
        },
        "outputId": "dbb7689b-8686-4dc8-9bf4-afa82b97939c"
      },
      "source": [
        "from keras.callbacks import EarlyStopping,ModelCheckpoint\n",
        "from keras.optimizers import Adam\n",
        "from keras.callbacks import ReduceLROnPlateau\n",
        "\n",
        "# specifying optimizer for our model\n",
        "optimizer = Adam(lr=0.001)\n",
        "\n",
        "\n",
        " early stopping -> which halts model training if loss does not improve for specific iterations\n",
        "cb=EarlyStopping(patience=5,monitor='val_loss',verbose=1,restore_best_weights=True)\n",
        "\n",
        "# modelcheckpoint -> which makes checkpoint after each iteration\n",
        "#cp=ModelCheckpoint('bestmodel.', monitor='loss', verbose=1, save_best_only=True)\n",
        "\n",
        "lr_reducer = ReduceLROnPlateau(factor=np.sqrt(0.1),\n",
        "                               monitor='val_loss',\n",
        "                               cooldown=0,\n",
        "                               patience=5,\n",
        "                               min_lr=0.5e-5)\n",
        " \n",
        "# compiling model \n",
        "model.compile(loss='sparse_categorical_crossentropy',optimizer=optimizer,metrics=['accuracy'])\n",
        "\n",
        "# fitting model / training \n",
        "hist=model.fit(datagen.flow(X_train,y_train, batch_size=32),validation_data=(X_test,y_test),epochs = 15,callbacks=[lr_reducer], steps_per_epoch=200)\n",
        "                             "
      ],
      "execution_count": null,
      "outputs": [
        {
          "output_type": "stream",
          "text": [
            "Epoch 1/15\n",
            "200/200 [==============================] - 36s 182ms/step - loss: 0.9817 - accuracy: 0.6698 - val_loss: 4.7513 - val_accuracy: 0.6497\n",
            "Epoch 2/15\n",
            "200/200 [==============================] - 36s 182ms/step - loss: 0.9290 - accuracy: 0.6788 - val_loss: 3.5253 - val_accuracy: 0.6467\n",
            "Epoch 3/15\n",
            "200/200 [==============================] - 37s 185ms/step - loss: 0.9062 - accuracy: 0.6830 - val_loss: 5.0614 - val_accuracy: 0.6417\n",
            "Epoch 4/15\n",
            "200/200 [==============================] - 36s 181ms/step - loss: 0.9037 - accuracy: 0.6866 - val_loss: 4.7343 - val_accuracy: 0.6437\n",
            "Epoch 5/15\n",
            "200/200 [==============================] - 36s 182ms/step - loss: 0.8974 - accuracy: 0.6862 - val_loss: 4.0350 - val_accuracy: 0.6377\n",
            "Epoch 6/15\n",
            "200/200 [==============================] - 37s 183ms/step - loss: 0.8886 - accuracy: 0.6939 - val_loss: 4.2164 - val_accuracy: 0.6437\n",
            "Epoch 7/15\n",
            "200/200 [==============================] - 36s 180ms/step - loss: 0.8641 - accuracy: 0.6946 - val_loss: 4.8176 - val_accuracy: 0.6407\n",
            "Epoch 8/15\n",
            "200/200 [==============================] - 36s 182ms/step - loss: 0.8491 - accuracy: 0.6987 - val_loss: 4.2744 - val_accuracy: 0.6437\n",
            "Epoch 9/15\n",
            "200/200 [==============================] - 36s 182ms/step - loss: 0.8454 - accuracy: 0.7020 - val_loss: 5.0726 - val_accuracy: 0.6467\n",
            "Epoch 10/15\n",
            "200/200 [==============================] - 36s 182ms/step - loss: 0.8417 - accuracy: 0.7042 - val_loss: 5.3875 - val_accuracy: 0.6477\n",
            "Epoch 11/15\n",
            "200/200 [==============================] - 36s 180ms/step - loss: 0.8480 - accuracy: 0.7080 - val_loss: 4.0350 - val_accuracy: 0.6427\n",
            "Epoch 12/15\n",
            "200/200 [==============================] - 37s 183ms/step - loss: 0.8402 - accuracy: 0.7079 - val_loss: 4.4878 - val_accuracy: 0.6427\n",
            "Epoch 13/15\n",
            "200/200 [==============================] - 36s 182ms/step - loss: 0.8188 - accuracy: 0.7137 - val_loss: 5.2230 - val_accuracy: 0.6437\n",
            "Epoch 14/15\n",
            "200/200 [==============================] - 37s 183ms/step - loss: 0.8236 - accuracy: 0.7126 - val_loss: 5.3291 - val_accuracy: 0.6437\n",
            "Epoch 15/15\n",
            "200/200 [==============================] - 36s 181ms/step - loss: 0.8179 - accuracy: 0.7097 - val_loss: 5.2543 - val_accuracy: 0.6437\n"
          ],
          "name": "stdout"
        }
      ]
    },
    {
      "cell_type": "markdown",
      "metadata": {
        "id": "nu6g7JJAyx4x"
      },
      "source": [
        "## Evaluating our model "
      ]
    },
    {
      "cell_type": "code",
      "metadata": {
        "id": "coS3kKr0ywsM"
      },
      "source": [
        "\n",
        "plt.figure()\n",
        "plt.ylabel(\"Loss (training and validation)\")\n",
        "plt.xlabel(\"Training Steps\")\n",
        "plt.ylim([0,2])\n",
        "plt.plot(hist.history[\"loss\"])\n",
        "plt.plot(hist.history[\"val_loss\"])\n",
        "\n",
        "plt.figure()\n",
        "plt.ylabel(\"Accuracy (training and validation)\")\n",
        "plt.xlabel(\"Training Steps\")\n",
        "plt.ylim([0,1])\n",
        "plt.plot(hist.history[\"accuracy\"])\n",
        "plt.plot(hist.history[\"val_accuracy\"])\n"
      ],
      "execution_count": null,
      "outputs": []
    },
    {
      "cell_type": "code",
      "metadata": {
        "id": "p59T5QzUiMPa"
      },
      "source": [
        "  \n",
        "  \n",
        "  "
      ],
      "execution_count": null,
      "outputs": []
    },
    {
      "cell_type": "code",
      "metadata": {
        "id": "Ad3P_dhtzLa4"
      },
      "source": [
        ""
      ],
      "execution_count": null,
      "outputs": []
    }
  ]
}